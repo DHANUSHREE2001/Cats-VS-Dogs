{
  "nbformat": 4,
  "nbformat_minor": 0,
  "metadata": {
    "colab": {
      "name": "CatsVSDogs.ipynb",
      "provenance": [],
      "collapsed_sections": []
    },
    "kernelspec": {
      "name": "python3",
      "display_name": "Python 3"
    },
    "language_info": {
      "name": "python"
    }
  },
  "cells": [
    {
      "cell_type": "markdown",
      "source": [
        "NAME : DHANUSHREE K G"
      ],
      "metadata": {
        "id": "t-Y8-TBVOYpT"
      }
    },
    {
      "cell_type": "markdown",
      "source": [
        "#**CATS VS DOGS**"
      ],
      "metadata": {
        "id": "JhcihE_aOFm_"
      }
    },
    {
      "cell_type": "code",
      "execution_count": 1,
      "metadata": {
        "id": "ddiRR0lurSL5"
      },
      "outputs": [],
      "source": [
        "#Importing Libraries\n",
        "import tensorflow as tf\n",
        "from keras.preprocessing.image import ImageDataGenerator"
      ]
    },
    {
      "cell_type": "code",
      "source": [
        "#Data Preprocessing\n",
        "train_datagen = ImageDataGenerator(\n",
        "        rescale=1./255,\n",
        "        shear_range=0.2,\n",
        "        zoom_range=0.2,\n",
        "        horizontal_flip=True)\n",
        "\n",
        "train_generator = train_datagen.flow_from_directory(\n",
        "        '/content/drive/MyDrive/projects_btech/1stopAI/train',\n",
        "        target_size=(64, 64),\n",
        "        batch_size=32,\n",
        "        class_mode='binary')"
      ],
      "metadata": {
        "colab": {
          "base_uri": "https://localhost:8080/"
        },
        "id": "RcwFW3hVsArf",
        "outputId": "12da2da3-e19f-470a-f8ef-ab16230a7a35"
      },
      "execution_count": 2,
      "outputs": [
        {
          "output_type": "stream",
          "name": "stdout",
          "text": [
            "Found 8112 images belonging to 2 classes.\n"
          ]
        }
      ]
    },
    {
      "cell_type": "code",
      "source": [
        "test_datagen = ImageDataGenerator(rescale=1./255)\n",
        "\n",
        "validation_generator = test_datagen.flow_from_directory(\n",
        "        '/content/drive/MyDrive/projects_btech/1stopAI/validation',\n",
        "        target_size=(64, 64),\n",
        "        batch_size=32,\n",
        "        class_mode='binary')"
      ],
      "metadata": {
        "colab": {
          "base_uri": "https://localhost:8080/"
        },
        "id": "wm32bb-Dw4um",
        "outputId": "1b44f343-1ab1-4e83-d28b-5b86a2e239f5"
      },
      "execution_count": 3,
      "outputs": [
        {
          "output_type": "stream",
          "name": "stdout",
          "text": [
            "Found 4000 images belonging to 2 classes.\n"
          ]
        }
      ]
    },
    {
      "cell_type": "markdown",
      "source": [
        "#Convolution Neural Network"
      ],
      "metadata": {
        "id": "fjMwgGArN_oq"
      }
    },
    {
      "cell_type": "code",
      "source": [
        "#Initialize\n",
        "cnn = tf.keras.models.Sequential()"
      ],
      "metadata": {
        "id": "c3WrhhKnyRnm"
      },
      "execution_count": 4,
      "outputs": []
    },
    {
      "cell_type": "code",
      "source": [
        "#Convolution\n",
        "cnn.add(tf.keras.layers.Conv2D(filters = 32, kernel_size=3, activation = 'relu', input_shape = [64,64,3]))"
      ],
      "metadata": {
        "id": "UeRMtZqUyWZc"
      },
      "execution_count": 5,
      "outputs": []
    },
    {
      "cell_type": "code",
      "source": [
        "#Pooling\n",
        "cnn.add(tf.keras.layers.MaxPool2D(pool_size=2,strides = 2))"
      ],
      "metadata": {
        "id": "jN2teyFTy39r"
      },
      "execution_count": 6,
      "outputs": []
    },
    {
      "cell_type": "code",
      "source": [
        "#Convolution\n",
        "cnn.add(tf.keras.layers.Conv2D(filters = 32, kernel_size=3, activation = 'relu'))"
      ],
      "metadata": {
        "id": "jNO1LjBizFgy"
      },
      "execution_count": 7,
      "outputs": []
    },
    {
      "cell_type": "code",
      "source": [
        "#Pooling\n",
        "cnn.add(tf.keras.layers.MaxPool2D(pool_size=2,strides = 2))"
      ],
      "metadata": {
        "id": "ChGUlt9NzJWM"
      },
      "execution_count": 8,
      "outputs": []
    },
    {
      "cell_type": "code",
      "source": [
        "#Flatten\n",
        "cnn.add(tf.keras.layers.Flatten())"
      ],
      "metadata": {
        "id": "vWPnBLrpzMnh"
      },
      "execution_count": 9,
      "outputs": []
    },
    {
      "cell_type": "code",
      "source": [
        "#Pool connection\n",
        "cnn.add(tf.keras.layers.Dense(units = 128,activation = 'relu'))"
      ],
      "metadata": {
        "id": "9Y_-V7HMzTIk"
      },
      "execution_count": 10,
      "outputs": []
    },
    {
      "cell_type": "code",
      "source": [
        "#output layer\n",
        "cnn.add(tf.keras.layers.Dense(units = 1,activation = 'sigmoid'))"
      ],
      "metadata": {
        "id": "5uDpc99QzoqG"
      },
      "execution_count": 11,
      "outputs": []
    },
    {
      "cell_type": "code",
      "source": [
        "#compile\n",
        "cnn.compile(optimizer = 'adam',loss = 'binary_crossentropy', metrics = ['accuracy'])"
      ],
      "metadata": {
        "id": "tm3bCEIWz2r4"
      },
      "execution_count": 12,
      "outputs": []
    },
    {
      "cell_type": "markdown",
      "source": [
        "#Training the dataset"
      ],
      "metadata": {
        "id": "I_gK1TgxlNDA"
      }
    },
    {
      "cell_type": "code",
      "source": [
        "history = cnn.fit(x = train_generator, validation_data = validation_generator, epochs = 5)"
      ],
      "metadata": {
        "id": "ZPZpSHzD0I8a",
        "colab": {
          "base_uri": "https://localhost:8080/"
        },
        "outputId": "bfccb2eb-c071-49ee-e58d-da522569b494"
      },
      "execution_count": 13,
      "outputs": [
        {
          "output_type": "stream",
          "name": "stdout",
          "text": [
            "Epoch 1/5\n",
            "254/254 [==============================] - 1981s 8s/step - loss: 0.6809 - accuracy: 0.5630 - val_loss: 0.6310 - val_accuracy: 0.6547\n",
            "Epoch 2/5\n",
            "254/254 [==============================] - 86s 340ms/step - loss: 0.6147 - accuracy: 0.6585 - val_loss: 0.5677 - val_accuracy: 0.7163\n",
            "Epoch 3/5\n",
            "254/254 [==============================] - 85s 336ms/step - loss: 0.5701 - accuracy: 0.7020 - val_loss: 0.5361 - val_accuracy: 0.7368\n",
            "Epoch 4/5\n",
            "254/254 [==============================] - 85s 335ms/step - loss: 0.5396 - accuracy: 0.7309 - val_loss: 0.5009 - val_accuracy: 0.7610\n",
            "Epoch 5/5\n",
            "254/254 [==============================] - 85s 335ms/step - loss: 0.5025 - accuracy: 0.7541 - val_loss: 0.5062 - val_accuracy: 0.7530\n"
          ]
        }
      ]
    },
    {
      "cell_type": "code",
      "source": [
        "#make single prediciton\n",
        "import numpy as np\n",
        "from keras.preprocessing import image\n",
        "test_image = image.load_img(\"/content/drive/MyDrive/projects_btech/1stopAI/img_158.jpg\",target_size = (64,64))\n",
        "test_image = image.img_to_array(test_image)\n",
        "test_image = np.expand_dims(test_image, axis = 0)\n",
        "result = cnn.predict(test_image)\n",
        "train_generator.class_indices\n",
        "if result[0][0] == 1:\n",
        "  prediction = 'dog'\n",
        "else:\n",
        "  prediction = 'cat'\n"
      ],
      "metadata": {
        "id": "w2EAiev70x7s"
      },
      "execution_count": 15,
      "outputs": []
    },
    {
      "cell_type": "code",
      "source": [
        "prediction"
      ],
      "metadata": {
        "colab": {
          "base_uri": "https://localhost:8080/",
          "height": 35
        },
        "id": "oVt6grDKYA8D",
        "outputId": "9ca6229f-8f9c-443c-bb16-de39b1bb6248"
      },
      "execution_count": 16,
      "outputs": [
        {
          "output_type": "execute_result",
          "data": {
            "application/vnd.google.colaboratory.intrinsic+json": {
              "type": "string"
            },
            "text/plain": [
              "'dog'"
            ]
          },
          "metadata": {},
          "execution_count": 16
        }
      ]
    },
    {
      "cell_type": "code",
      "source": [
        "import matplotlib.pyplot as plt\n",
        "print(history.history.keys())"
      ],
      "metadata": {
        "id": "DyI8tRpV2XoR",
        "colab": {
          "base_uri": "https://localhost:8080/"
        },
        "outputId": "e2a73201-b5b8-4658-a1aa-24ca32c5ebfe"
      },
      "execution_count": 17,
      "outputs": [
        {
          "output_type": "stream",
          "name": "stdout",
          "text": [
            "dict_keys(['loss', 'accuracy', 'val_loss', 'val_accuracy'])\n"
          ]
        }
      ]
    },
    {
      "cell_type": "code",
      "source": [
        "plt.plot(history.history['accuracy'])\n",
        "plt.plot(history.history['val_loss'])\n",
        "plt.plot(history.history['val_accuracy'])"
      ],
      "metadata": {
        "id": "IOrIbhE025AN",
        "colab": {
          "base_uri": "https://localhost:8080/",
          "height": 282
        },
        "outputId": "1d5ea3f4-2f27-4a18-b339-3ca80c3c728c"
      },
      "execution_count": 18,
      "outputs": [
        {
          "output_type": "execute_result",
          "data": {
            "text/plain": [
              "[<matplotlib.lines.Line2D at 0x7f9c62466490>]"
            ]
          },
          "metadata": {},
          "execution_count": 18
        },
        {
          "output_type": "display_data",
          "data": {
            "image/png": "[encoded data removed]",
            "text/plain": [
              "<Figure size 432x288 with 1 Axes>"
            ]
          },
          "metadata": {
            "needs_background": "light"
          }
        }
      ]
    }
  ]
}